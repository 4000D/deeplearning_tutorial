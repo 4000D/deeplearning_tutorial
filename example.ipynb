{
 "cells": [
  {
   "cell_type": "code",
   "execution_count": 4,
   "metadata": {
    "collapsed": false
   },
   "outputs": [],
   "source": [
    "import tensorflow as tf\n",
    "import numpy as np\n",
    "\n",
    "N, D, H, C = 64, 1000, 100, 10\n",
    "\n",
    "x = tf.placeholder(tf.float32, shape = [None, D], name='x')\n",
    "y = tf.placeholder(tf.float32, shape = [None, C], name ='y')\n",
    "\n",
    "w1 = tf.Variable(1e-3 * np.random.randn(D, H).astype(np.float32), name='w1')\n",
    "w2 = tf.Variable(1e-3 * np.random.randn(H, C).astype(np.float32), name='w2')\n",
    "\n",
    "with tf.name_scope('scores') as scope:\n",
    "    a = tf.matmul(x, w1)\n",
    "    a_relu = tf.nn.relu(a)\n",
    "    scores = tf.matmul(a_relu, w2)\n",
    "\n",
    "with tf.name_scope('loss') as scope:\n",
    "    probs = tf.nn.softmax(scores)\n",
    "    loss = -tf.reduce_sum(y * tf.log(probs))\n",
    "    \n",
    "loss_summary = tf.scalar_summary('loss', loss)\n",
    "w1_hist = tf.histogram_summary('w1', w1)\n",
    "w2_hist = tf.histogram_summary('w2', w2)\n",
    "\n",
    "learning_rate = 1e-2\n",
    "train_step = tf.train.GradientDescentOptimizer(learning_rate).minimize(loss)\n",
    "\n",
    "xx = np.random.randn(N, D).astype(np.float32)\n",
    "yy = np.zeros([N,C]).astype(np.float32)\n",
    "yy[np.arange(N), np.random.randint(C, size=N)] = 1"
   ]
  },
  {
   "cell_type": "code",
   "execution_count": null,
   "metadata": {
    "collapsed": true
   },
   "outputs": [],
   "source": []
  }
 ],
 "metadata": {
  "kernelspec": {
   "display_name": "Python 2",
   "language": "python",
   "name": "python2"
  },
  "language_info": {
   "codemirror_mode": {
    "name": "ipython",
    "version": 2
   },
   "file_extension": ".py",
   "mimetype": "text/x-python",
   "name": "python",
   "nbconvert_exporter": "python",
   "pygments_lexer": "ipython2",
   "version": "2.7.6"
  }
 },
 "nbformat": 4,
 "nbformat_minor": 0
}
